{
 "cells": [
  {
   "cell_type": "code",
   "execution_count": 57,
   "metadata": {},
   "outputs": [
    {
     "name": "stdout",
     "output_type": "stream",
     "text": [
      "{\"stat\":\"Bangalore\",\"Card No\":\"Bl@#1234\"}\n"
     ]
    },
    {
     "data": {
      "text/plain": [
       "defined class MyClass\n"
      ]
     },
     "metadata": {},
     "output_type": "display_data"
    },
    {
     "data": {
      "text/plain": [
       "status: MyClass = MyClass(Bangalore,Bl@#1234)\n",
       "json: play.api.libs.json.JsValue = {\"stat\":\"Bangalore\",\"Card No\":\"Bl@#1234\"}\n"
      ]
     },
     "metadata": {},
     "output_type": "display_data"
    }
   ],
   "source": [
    "import play.api.libs.json._\n",
    "\n",
    "case class MyClass(stat: String, `Card No`: String)\n",
    "\n",
    "implicit private val MyClassWrites = Json.writes[MyClass]\n",
    "\n",
    "val status = MyClass(stat = \"Bangalore\", `Card No` = \"Bl@#1234\")\n",
    "\n",
    "val json = Json.toJson(status)\n",
    "\n",
    "println(json)"
   ]
  },
  {
   "cell_type": "code",
   "execution_count": 2,
   "metadata": {},
   "outputs": [
    {
     "data": {
      "text/plain": [
       "Name: Compile Error\n",
       "Message: <console>:20: error: value using is not a member of object play.api.libs.json.Json\n",
       " Note: implicit method jsonFormat is not applicable here because it comes after the application point and it lacks an explicit result type\n",
       "           implicit def jsonFormat = Json.using[WithDefaultValue].format[Test]\n",
       "                                          ^\n",
       "<console>:20: error: not found: type WithDefaultValue\n",
       "           implicit def jsonFormat = Json.using[WithDefaultValue].format[Test]\n",
       "                                                ^\n",
       "\n",
       "StackTrace: "
      ]
     },
     "execution_count": 2,
     "metadata": {},
     "output_type": "execute_result"
    }
   ],
   "source": [
    "import play.api.libs.json._\n",
    "\n",
    "case class Test(field1: String , field2: Seq[String] = Seq.empty[String])\n",
    "\n",
    "object Test{\n",
    "    import play.api.libs.json.Json\n",
    "    implicit def jsonFormat = Json.using[WithDefaultValue].format[Test]\n",
    "}\n",
    "\n",
    "val t = Test(\"1\")\n",
    "\n",
    "println(s\"here = ${t.field2}\")\n",
    "\n",
    "\n"
   ]
  },
  {
   "cell_type": "code",
   "execution_count": 17,
   "metadata": {},
   "outputs": [
    {
     "data": {
      "text/plain": [
       "json = {\"name\":\"Watership Down\",\"location\":{\"lat\":51.235685,\"long\":-1.309197},\"residents\":[{\"name\":\"Fiver\",\"age\":4,\"role\":null},{\"name\":\"Bigwig\",\"age\":6,\"role\":\"Owsla\"}]}\n"
      ]
     },
     "metadata": {},
     "output_type": "display_data"
    },
    {
     "data": {
      "text/plain": [
       "{\"name\":\"Watership Down\",\"location\":{\"lat\":51.235685,\"long\":-1.309197},\"residents\":[{\"name\":\"Fiver\",\"age\":4,\"role\":null},{\"name\":\"Bigwig\",\"age\":6,\"role\":\"Owsla\"}]}"
      ]
     },
     "execution_count": 17,
     "metadata": {},
     "output_type": "execute_result"
    }
   ],
   "source": [
    "import play.api.libs.json.Json\n",
    "val json: JsValue = Json.parse(\"\"\"\n",
    "  {\n",
    "    \"name\" : \"Watership Down\",\n",
    "    \"location\" : {\n",
    "      \"lat\" : 51.235685,\n",
    "      \"long\" : -1.309197\n",
    "    },\n",
    "    \"residents\" : [ {\n",
    "      \"name\" : \"Fiver\",\n",
    "      \"age\" : 4,\n",
    "      \"role\" : null\n",
    "    }, {\n",
    "      \"name\" : \"Bigwig\",\n",
    "      \"age\" : 6,\n",
    "      \"role\" : \"Owsla\"\n",
    "    } ]\n",
    "  }\n",
    "  \"\"\")"
   ]
  },
  {
   "cell_type": "code",
   "execution_count": 22,
   "metadata": {},
   "outputs": [
    {
     "data": {
      "text/plain": [
       "Some(Watership Down)"
      ]
     },
     "execution_count": 22,
     "metadata": {},
     "output_type": "execute_result"
    }
   ],
   "source": [
    "(json \\ \"name\").asOpt[String]"
   ]
  },
  {
   "cell_type": "code",
   "execution_count": 9,
   "metadata": {},
   "outputs": [
    {
     "data": {
      "text/plain": [
       "defined class MyClassA\n"
      ]
     },
     "metadata": {},
     "output_type": "display_data"
    }
   ],
   "source": [
    "import com.google.gson.annotations.SerializedName\n",
    "import com.google.gson.GsonBuilder\n",
    "import com.google.gson.FieldNamingPolicy\n",
    "import com.google.gson.GsonBuilder._\n",
    "case class MyClassA (\n",
    "    State: String, \n",
    "    @(SerializedName @scala.annotation.meta.field)(\"card name\")\n",
    "    CARD: String\n",
    "    )"
   ]
  },
  {
   "cell_type": "code",
   "execution_count": 10,
   "metadata": {
    "scrolled": true
   },
   "outputs": [
    {
     "name": "stdout",
     "output_type": "stream",
     "text": [
      "{\n",
      "  \"State\": \"Bangalore\",\n",
      "  \"card name\": \"Bl@#1234\"\n",
      "}\n"
     ]
    },
    {
     "data": {
      "text/plain": [
       "status = MyClassA(Bangalore,Bl@#1234)\n",
       "gson = {serializeNulls:falsefactories:[Factory[typeHierarchy=com.google.gson.JsonElement,adapter=com.google.gson.internal.bind.TypeAdapters$25@7c42880e], com.google.gson.internal.bind.ObjectTypeAdapter$1@4a976e34, com.google.gson.internal.Excluder@1230b44f, Factory[type=java.lang.String,adapter=com.google.gson.internal.bind.TypeAdapters$13@49ba38fd], Factory[type=java.lang.Integer+int,adapter=com.google.gson.internal.bind.TypeAdapters$7@2150db3c], Factory[type=java.lang.Boolean+boolean,adapter=com.google.gson.internal.bind.TypeAdapters$3@50c7f7ec], Factory[type=java.lang.Byte+byte,adapter=com.google.gson.internal.bind.TypeAdapters$5@4742a377], Factory[type=java.lang.Short+short,adapter=com.google.gson.internal.bind.Ty...\n"
      ]
     },
     "metadata": {},
     "output_type": "display_data"
    },
    {
     "data": {
      "text/plain": [
       "{serializeNulls:falsefactories:[Factory[typeHierarchy=com.google.gson.JsonElement,adapter=com.google.gson.internal.bind.TypeAdapters$25@7c42880e], com.google.gson.internal.bind.ObjectTypeAdapter$1@4a976e34, com.google.gson.internal.Excluder@1230b44f, Factory[type=java.lang.String,adapter=com.google.gson.internal.bind.TypeAdapters$13@49ba38fd], Factory[type=java.lang.Integer+int,adapter=com.google.gson.internal.bind.TypeAdapters$7@2150db3c], Factory[type=java.lang.Boolean+boolean,adapter=com.google.gson.internal.bind.TypeAdapters$3@50c7f7ec], Factory[type=java.lang.Byte+byte,adapter=com.google.gson.internal.bind.TypeAdapters$5@4742a377], Factory[type=java.lang.Short+short,adapter=com.google.gson.internal.bind.TypeAdapters$6@5f2706b2], Factory[type=java.lang.Long+long,adapter=com.google.gson.internal.bind.TypeAdapters$8@7809bf51], Factory[type=java.lang.Double+double,adapter=com.google.gson.Gson$3@6e886d20], Factory[type=java.lang.Float+float,adapter=com.google.gson.Gson$4@a06b543], Factory[type=java.lang.Number,adapter=com.google.gson.internal.bind.TypeAdapters$11@22608322], Factory[type=java.lang.Character+char,adapter=com.google.gson.internal.bind.TypeAdapters$12@17265308], Factory[type=java.lang.StringBuilder,adapter=com.google.gson.internal.bind.TypeAdapters$16@722421d0], Factory[type=java.lang.StringBuffer,adapter=com.google.gson.internal.bind.TypeAdapters$17@1fa1f80f], Factory[type=java.math.BigDecimal,adapter=com.google.gson.internal.bind.TypeAdapters$14@397e114a], Factory[type=java.math.BigInteger,adapter=com.google.gson.internal.bind.TypeAdapters$15@1ce5ab7e], Factory[type=java.net.URL,adapter=com.google.gson.internal.bind.TypeAdapters$18@4f9c3393], Factory[type=java.net.URI,adapter=com.google.gson.internal.bind.TypeAdapters$19@5fedcbef], Factory[type=java.util.UUID,adapter=com.google.gson.internal.bind.TypeAdapters$21@16506519], Factory[type=java.util.Locale,adapter=com.google.gson.internal.bind.TypeAdapters$24@275f92f6], Factory[typeHierarchy=java.net.InetAddress,adapter=com.google.gson.internal.bind.TypeAdapters$20@9713d25], Factory[type=java.util.BitSet,adapter=com.google.gson.internal.bind.TypeAdapters$2@38723d57], com.google.gson.internal.bind.DateTypeAdapter$1@2d1fffed, Factory[type=java.util.Calendar+java.util.GregorianCalendar,adapter=com.google.gson.internal.bind.TypeAdapters$23@760c009a], com.google.gson.internal.bind.TimeTypeAdapter$1@7614836b, com.google.gson.internal.bind.SqlDateTypeAdapter$1@5fa5807b, com.google.gson.internal.bind.TypeAdapters$22@d17ecf5, com.google.gson.internal.bind.ArrayTypeAdapter$1@1b09251d, com.google.gson.internal.bind.TypeAdapters$26@4954e2cc, Factory[type=java.lang.Class,adapter=com.google.gson.internal.bind.TypeAdapters$1@3a0105c5], com.google.gson.internal.bind.CollectionTypeAdapterFactory@35f25594, com.google.gson.internal.bind.MapTypeAdapterFactory@ef9cc31, com.google.gson.internal.bind.ReflectiveTypeAdapterFactory@23b551a3],instanceCreators:{}}"
      ]
     },
     "execution_count": 10,
     "metadata": {},
     "output_type": "execute_result"
    }
   ],
   "source": [
    "val status = MyClassA(State = \"Bangalore\", CARD = \"Bl@#1234\")\n",
    "val gson = new GsonBuilder()\n",
    "//     .setFieldNamingPolicy(FieldNamingPolicy.UPPER_CAMEL_CASE_WITH_SPACES)\n",
    "    .setPrettyPrinting().create()\n",
    "\n",
    "println(gson.toJson(status))"
   ]
  },
  {
   "cell_type": "code",
   "execution_count": 1,
   "metadata": {},
   "outputs": [
    {
     "data": {
      "text/plain": [
       "defined class Sub\n",
       "defined class ColSub\n",
       "str = {\"dmaName\":[{\"columbus\":\"Columbus, OH\"}]}\n",
       "subreads = play.api.libs.json.Reads$$anon$8@5d147c3a\n",
       "subStr = {\"regex\":\"someMatch\",\"replace\":\"somerepl\"}\n",
       "subresult = JsSuccess(Sub(someMatch,somerepl),)\n"
      ]
     },
     "metadata": {},
     "output_type": "display_data"
    },
    {
     "data": {
      "text/plain": [
       "JsSuccess(Sub(someMatch,somerepl),)"
      ]
     },
     "execution_count": 1,
     "metadata": {},
     "output_type": "execute_result"
    }
   ],
   "source": [
    "import play.api.libs.json._\n",
    "case class Sub(regex: String, replace: String) \n",
    "case class ColSub(colName: String, replace: Seq[Sub])\n",
    "\n",
    "val str = \"{\\\"dmaName\\\":[{\\\"columbus\\\":\\\"Columbus, OH\\\"}]}\"\n",
    "\n",
    "import play.api.libs.json._\n",
    "import play.api.libs.functional.syntax._\n",
    "\n",
    "implicit val subreads: Reads[Sub] = (\n",
    "    (JsPath \\ \"regex\").read[String] and \n",
    "    (JsPath \\ \"replace\").read[String]\n",
    ")(Sub.apply _)\n",
    "\n",
    "val subStr = Json.parse(\"{ \\\"regex\\\" : \\\"someMatch\\\", \\\"replace\\\": \\\"somerepl\\\" }\")\n",
    "val subresult = subStr.validate[Sub]\n"
   ]
  },
  {
   "cell_type": "code",
   "execution_count": 27,
   "metadata": {},
   "outputs": [
    {
     "data": {
      "text/plain": [
       "Name: Unknown Error\n",
       "Message: <console>:69: error: value toJson is not a member of object play.api.libs.json.JsError\n",
       "    case e: JsError => println( JsError.toJson(e).toString )\n",
       "                                        ^\n",
       "\n",
       "StackTrace: "
      ]
     },
     "execution_count": 27,
     "metadata": {},
     "output_type": "execute_result"
    }
   ],
   "source": [
    "import play.api.libs.json._\n",
    "\n",
    "val str = \"\"\"\n",
    "     {\"replace\": [\n",
    "            {\n",
    "              \"regex\": \"someMatch\",\n",
    "              \"replace\": \"somerepl\"\n",
    "            },\n",
    "            {\n",
    "              \"regex\": \"someMatch2\",\n",
    "              \"replace\": \"somerepl2\"\n",
    "            }\n",
    "          ]\n",
    "      }\n",
    "\"\"\"\n",
    "\n",
    "val tmp = (Json.parse(str) \\ \"replace\").validate[Seq[Sub]]\n",
    "\n",
    "tmp match {\n",
    "    case s: JsSuccess[Seq[Sub]] => println(\"done\")\n",
    "    case e: JsError => println( JsError.toJson(e).toString )\n",
    "}\n"
   ]
  },
  {
   "cell_type": "code",
   "execution_count": 7,
   "metadata": {},
   "outputs": [
    {
     "data": {
      "text/plain": [
       "colsubreads = play.api.libs.json.Reads$$anon$8@7f1d6b4b\n",
       "colSubStr = {\"colName\":\"dmaName\",\"replace\":[{\"regex\":\"someMatch\",\"replace\":\"somerepl\"},{\"regex\":\"someMatch2\",\"replace\":\"somerepl2\"}]}\n",
       "colSubresult = JsSuccess(ColSub(dmaName,List(Sub(someMatch,somerepl), Sub(someMatch2,somerepl2))),)\n"
      ]
     },
     "metadata": {},
     "output_type": "display_data"
    },
    {
     "data": {
      "text/plain": [
       "JsSuccess(ColSub(dmaName,List(Sub(someMatch,somerepl), Sub(someMatch2,somerepl2))),)"
      ]
     },
     "execution_count": 7,
     "metadata": {},
     "output_type": "execute_result"
    }
   ],
   "source": [
    "implicit val colsubreads: Reads[ColSub] = (\n",
    "    (JsPath \\ \"colName\").read[String] and \n",
    "    (JsPath \\ \"replace\").read[Seq[Sub]]\n",
    ")(ColSub.apply _)\n",
    "\n",
    "val colSubStr = Json.parse(\"\"\"\n",
    "    {\n",
    "      \"colName\": \"dmaName\",\n",
    "      \"replace\": [\n",
    "        {\n",
    "          \"regex\": \"someMatch\",\n",
    "          \"replace\": \"somerepl\"\n",
    "        },\n",
    "        {\n",
    "          \"regex\": \"someMatch2\",\n",
    "          \"replace\": \"somerepl2\"\n",
    "        }\n",
    "      ]\n",
    "    }\n",
    "\"\"\")    \n",
    "val colSubresult = colSubStr.validate[ColSub]\n"
   ]
  },
  {
   "cell_type": "code",
   "execution_count": 13,
   "metadata": {},
   "outputs": [
    {
     "data": {
      "text/plain": [
       "defined class ReplaceInCol\n",
       "replaceInColStr = {\"replaceInCol\":[{\"colName\":\"dmaName\",\"replace\":[{\"regex\":\"someMatch\",\"replace\":\"somerepl\"},{\"regex\":\"someMatch2\",\"replace\":\"somerepl2\"}]},{\"colName\":\"network\",\"replace\":[{\"regex\":\"someMatch\",\"replace\":\"somerepl\"},{\"regex\":\"someMatch2\",\"replace\":\"somerepl2\"}]}]}\n"
      ]
     },
     "metadata": {},
     "output_type": "display_data"
    },
    {
     "data": {
      "text/plain": [
       "{\"replaceInCol\":[{\"colName\":\"dmaName\",\"replace\":[{\"regex\":\"someMatch\",\"replace\":\"somerepl\"},{\"regex\":\"someMatch2\",\"replace\":\"somerepl2\"}]},{\"colName\":\"network\",\"replace\":[{\"regex\":\"someMatch\",\"replace\":\"somerepl\"},{\"regex\":\"someMatch2\",\"replace\":\"somerepl2\"}]}]}"
      ]
     },
     "execution_count": 13,
     "metadata": {},
     "output_type": "execute_result"
    }
   ],
   "source": [
    "import play.api.libs.json._\n",
    "import play.api.libs.functional.syntax._\n",
    "\n",
    "case class ReplaceInCol(replaceInCol: Seq[ColSub])\n",
    "\n",
    "// implicit val replaceincolreads: Reads[ReplaceInCol] = (\n",
    "//     (JsPath \\ \"replaceInCol\").read[Seq[ColSub]]\n",
    "// )(ReplaceInCol.apply _) //.lazyRead(Reads.seq[ColSub](colsubreads))\n",
    "\n",
    "val replaceInColStr = Json.parse(\"\"\"\n",
    "{\n",
    "  \"replaceInCol\": [\n",
    "    {\n",
    "      \"colName\": \"dmaName\",\n",
    "      \"replace\": [\n",
    "        {\n",
    "          \"regex\": \"someMatch\",\n",
    "          \"replace\": \"somerepl\"\n",
    "        },\n",
    "        {\n",
    "          \"regex\": \"someMatch2\",\n",
    "          \"replace\": \"somerepl2\"\n",
    "        }\n",
    "      ]\n",
    "    },\n",
    "    {\n",
    "      \"colName\": \"network\",\n",
    "      \"replace\": [\n",
    "        {\n",
    "          \"regex\": \"someMatch\",\n",
    "          \"replace\": \"somerepl\"\n",
    "        },\n",
    "        {\n",
    "          \"regex\": \"someMatch2\",\n",
    "          \"replace\": \"somerepl2\"\n",
    "        }\n",
    "      ]\n",
    "    }\n",
    "  ]\n",
    "}\"\"\")\n",
    "\n",
    "//val replaceInColResult = replaceInColStr.validate[ReplaceInCol]\n"
   ]
  },
  {
   "cell_type": "code",
   "execution_count": 15,
   "metadata": {},
   "outputs": [
    {
     "data": {
      "text/plain": [
       "pval = [{\"colName\":\"dmaName\",\"replace\":[{\"regex\":\"someMatch\",\"replace\":\"somerepl\"},{\"regex\":\"someMatch2\",\"replace\":\"somerepl2\"}]},{\"colName\":\"network\",\"replace\":[{\"regex\":\"someMatch\",\"replace\":\"somerepl\"},{\"regex\":\"someMatch2\",\"replace\":\"somerepl2\"}]}]\n"
      ]
     },
     "metadata": {},
     "output_type": "display_data"
    },
    {
     "data": {
      "text/plain": [
       "[{\"colName\":\"dmaName\",\"replace\":[{\"regex\":\"someMatch\",\"replace\":\"somerepl\"},{\"regex\":\"someMatch2\",\"replace\":\"somerepl2\"}]},{\"colName\":\"network\",\"replace\":[{\"regex\":\"someMatch\",\"replace\":\"somerepl\"},{\"regex\":\"someMatch2\",\"replace\":\"somerepl2\"}]}]"
      ]
     },
     "execution_count": 15,
     "metadata": {},
     "output_type": "execute_result"
    }
   ],
   "source": [
    "val pval = (replaceInColStr \\ \"replaceInCol\")"
   ]
  },
  {
   "cell_type": "code",
   "execution_count": 16,
   "metadata": {},
   "outputs": [
    {
     "data": {
      "text/plain": [
       "JsSuccess(List(ColSub(dmaName,List(Sub(someMatch,somerepl), Sub(someMatch2,somerepl2))), ColSub(network,List(Sub(someMatch,somerepl), Sub(someMatch2,somerepl2)))),)"
      ]
     },
     "execution_count": 16,
     "metadata": {},
     "output_type": "execute_result"
    }
   ],
   "source": [
    "Json.fromJson[List[ColSub]](pval)"
   ]
  },
  {
   "cell_type": "code",
   "execution_count": 53,
   "metadata": {},
   "outputs": [
    {
     "data": {
      "text/plain": [
       "apiURL = https://das.alphonso.tv\n",
       "brandName = Kroger Corp\n",
       "brandNameEncoded = Kroger%20Corp\n",
       "result = HttpResponse({\"brands\":[{\"score\":0.070617564,\"name\":\"Kroger Corp\",\"id\":\"-508860\"}],\"products\":[]},200,Map(Access-Control-Allow-Origin -> Vector(*), Content-Length -> Vector(84), Content-Type -> Vector(application/json; charset=utf-8), Date -> Vector(Thu, 06 Feb 2020 11:36:18 GMT), ETag -> Vector(W/\"54-Azwi6TWWF36X2qd9J6QyEg\"), Status -> Vector(HTTP/1.1 200 OK), Vary -> Vector(Origin, Accept-Encoding), X-Powered-By -> Vector(Express)))\n"
      ]
     },
     "metadata": {},
     "output_type": "display_data"
    },
    {
     "data": {
      "text/plain": [
       "HttpResponse({\"brands\":[{\"score\":0.070617564,\"name\":\"Kroger Corp\",\"id\":\"-508860\"}],\"products\":[]},200,Map(Access-Control-Allow-Origin -> Vector(*), Content-Length -> Vector(84), Content-Type -> Vector(application/json; charset=utf-8), Date -> Vector(Thu, 06 Feb 2020 11:36:18 GMT), ETag -> Vector(W/\"54-Azwi6TWWF36X2qd9J6QyEg\"), Status -> Vector(HTTP/1.1 200 OK), Vary -> Vector(Origin, Accept-Encoding), X-Powered-By -> Vector(Express)))"
      ]
     },
     "execution_count": 53,
     "metadata": {},
     "output_type": "execute_result"
    }
   ],
   "source": [
    "import scalaj.http.{Http, HttpOptions}\n",
    "import java.net.URLEncoder\n",
    "val apiURL = \"https://das.alphonso.tv\"\n",
    "val brandName = \"Kroger Corp\"\n",
    "val brandNameEncoded = URLEncoder.encode(brandName, \"UTF-8\").replace(\"+\", \"%20\")\n",
    "val result = Http(s\"${apiURL}/v1/search/${brandNameEncoded}\")\n",
    "  .params(\"limit\" -> \"20\", \"exactMatch\" -> \"true\", \"all\" -> \"true\")\n",
    "  .header(\"Content-Type\", \"application/json\")\n",
    "  .header(\"Charset\", \"UTF-8\")\n",
    "  .option(HttpOptions.readTimeout(10000))\n",
    "  .method(\"get\")\n",
    "  .asString"
   ]
  },
  {
   "cell_type": "code",
   "execution_count": 54,
   "metadata": {},
   "outputs": [
    {
     "data": {
      "text/plain": [
       "res = {\"brands\":[{\"score\":0.070617564,\"name\":\"Kroger Corp\",\"id\":\"-508860\"}],\"products\":[]}\n",
       "id = \"-508860\"\n"
      ]
     },
     "metadata": {},
     "output_type": "display_data"
    },
    {
     "data": {
      "text/plain": [
       "\"-508860\""
      ]
     },
     "execution_count": 54,
     "metadata": {},
     "output_type": "execute_result"
    }
   ],
   "source": [
    "val res = Json.parse(result.body)\n",
    "val id = (res \\\\ \"id\").head.toString\n"
   ]
  },
  {
   "cell_type": "code",
   "execution_count": null,
   "metadata": {},
   "outputs": [],
   "source": []
  }
 ],
 "metadata": {
  "kernelspec": {
   "display_name": "Apache Toree - Scala",
   "language": "scala",
   "name": "apache_toree_scala"
  },
  "language_info": {
   "codemirror_mode": "text/x-scala",
   "file_extension": ".scala",
   "mimetype": "text/x-scala",
   "name": "scala",
   "pygments_lexer": "scala",
   "version": "2.11.12"
  }
 },
 "nbformat": 4,
 "nbformat_minor": 2
}
